{
 "cells": [
  {
   "cell_type": "code",
   "execution_count": 1,
   "metadata": {},
   "outputs": [
    {
     "name": "stderr",
     "output_type": "stream",
     "text": [
      "/home/hywel/anaconda3/lib/python3.6/site-packages/h5py/__init__.py:36: FutureWarning: Conversion of the second argument of issubdtype from `float` to `np.floating` is deprecated. In future, it will be treated as `np.float64 == np.dtype(float).type`.\n",
      "  from ._conv import register_converters as _register_converters\n",
      "Using TensorFlow backend.\n"
     ]
    }
   ],
   "source": [
    "import numpy\n",
    "from keras.models import Sequential\n",
    "from keras.layers import Dense\n",
    "from keras.layers import LSTM\n",
    "from keras.utils import np_utils\n",
    "import tensorflow as tf"
   ]
  },
  {
   "cell_type": "code",
   "execution_count": 2,
   "metadata": {},
   "outputs": [],
   "source": [
    "numpy.random.seed(7)\n",
    "# define the raw dataset\n",
    "alphabet = \"ABCDEFGHIJKLMNOPQRSTUVWXYZ\"\n",
    "# create mapping of characters to integers (0-25) and the reverse\n",
    "char_to_int = dict((c, i) for i, c in enumerate(alphabet))\n",
    "int_to_char = dict((i, c) for i, c in enumerate(alphabet))"
   ]
  },
  {
   "cell_type": "code",
   "execution_count": 3,
   "metadata": {},
   "outputs": [
    {
     "name": "stdout",
     "output_type": "stream",
     "text": [
      "ABC -> D\n",
      "BCD -> E\n",
      "CDE -> F\n",
      "DEF -> G\n",
      "EFG -> H\n",
      "FGH -> I\n",
      "GHI -> J\n",
      "HIJ -> K\n",
      "IJK -> L\n",
      "JKL -> M\n",
      "KLM -> N\n",
      "LMN -> O\n",
      "MNO -> P\n",
      "NOP -> Q\n",
      "OPQ -> R\n",
      "PQR -> S\n",
      "QRS -> T\n",
      "RST -> U\n",
      "STU -> V\n",
      "TUV -> W\n",
      "UVW -> X\n",
      "VWX -> Y\n",
      "WXY -> Z\n"
     ]
    }
   ],
   "source": [
    "# prepare the dataset of input to output pairs encoded as integers\n",
    "seq_length = 3\n",
    "dataX = []\n",
    "dataY = []\n",
    "for i in range(0, len(alphabet) - seq_length, 1):\n",
    "    seq_in = alphabet[i:i + seq_length]\n",
    "    seq_out = alphabet[i + seq_length]\n",
    "    dataX.append([char_to_int[char] for char in seq_in])\n",
    "    dataY.append(char_to_int[seq_out])\n",
    "    print (seq_in, '->', seq_out)"
   ]
  },
  {
   "cell_type": "code",
   "execution_count": 4,
   "metadata": {},
   "outputs": [],
   "source": [
    "# reshape X to be [samples, time steps, features]\n",
    "X = numpy.reshape(dataX, (len(dataX),seq_length,1))\n",
    "# normalize\n",
    "X = X / float(len(alphabet))\n",
    "# one hot encode the output variable\n",
    "y = np_utils.to_categorical(dataY)"
   ]
  },
  {
   "cell_type": "code",
   "execution_count": null,
   "metadata": {},
   "outputs": [
    {
     "name": "stdout",
     "output_type": "stream",
     "text": [
      "Epoch 1/500\n",
      " - 1s - loss: 3.2698 - acc: 0.0000e+00\n",
      "Epoch 2/500\n",
      " - 0s - loss: 3.2547 - acc: 0.0000e+00\n",
      "Epoch 3/500\n",
      " - 0s - loss: 3.2465 - acc: 0.0000e+00\n",
      "Epoch 4/500\n",
      " - 0s - loss: 3.2391 - acc: 0.0435\n",
      "Epoch 5/500\n",
      " - 0s - loss: 3.2311 - acc: 0.0435\n",
      "Epoch 6/500\n",
      " - 0s - loss: 3.2228 - acc: 0.0435\n",
      "Epoch 7/500\n",
      " - 0s - loss: 3.2139 - acc: 0.0435\n",
      "Epoch 8/500\n",
      " - 0s - loss: 3.2048 - acc: 0.0435\n",
      "Epoch 9/500\n",
      " - 0s - loss: 3.1935 - acc: 0.0435\n",
      "Epoch 10/500\n",
      " - 0s - loss: 3.1817 - acc: 0.0435\n",
      "Epoch 11/500\n",
      " - 0s - loss: 3.1696 - acc: 0.0435\n",
      "Epoch 12/500\n",
      " - 0s - loss: 3.1547 - acc: 0.0435\n",
      "Epoch 13/500\n",
      " - 0s - loss: 3.1390 - acc: 0.0435\n",
      "Epoch 14/500\n",
      " - 0s - loss: 3.1231 - acc: 0.0435\n",
      "Epoch 15/500\n",
      " - 0s - loss: 3.1054 - acc: 0.0435\n",
      "Epoch 16/500\n",
      " - 0s - loss: 3.0877 - acc: 0.0000e+00\n",
      "Epoch 17/500\n",
      " - 0s - loss: 3.0717 - acc: 0.0000e+00\n",
      "Epoch 18/500\n",
      " - 0s - loss: 3.0578 - acc: 0.0435\n",
      "Epoch 19/500\n",
      " - 0s - loss: 3.0375 - acc: 0.0435\n",
      "Epoch 20/500\n",
      " - 0s - loss: 3.0203 - acc: 0.0870\n",
      "Epoch 21/500\n",
      " - 0s - loss: 3.0048 - acc: 0.0870\n",
      "Epoch 22/500\n",
      " - 0s - loss: 2.9824 - acc: 0.0870\n",
      "Epoch 23/500\n",
      " - 0s - loss: 2.9601 - acc: 0.0870\n",
      "Epoch 24/500\n",
      " - 0s - loss: 2.9347 - acc: 0.0870\n",
      "Epoch 25/500\n",
      " - 0s - loss: 2.9101 - acc: 0.0870\n",
      "Epoch 26/500\n",
      " - 0s - loss: 2.8845 - acc: 0.0870\n",
      "Epoch 27/500\n",
      " - 0s - loss: 2.8566 - acc: 0.0870\n",
      "Epoch 28/500\n",
      " - 0s - loss: 2.8252 - acc: 0.0870\n",
      "Epoch 29/500\n",
      " - 0s - loss: 2.7987 - acc: 0.0870\n"
     ]
    }
   ],
   "source": [
    "model = Sequential()\n",
    "model.add(LSTM(32, input_shape=(X.shape[1], X.shape[2])))\n",
    "model.add(Dense(y.shape[1], activation='softmax'))\n",
    "model.compile(loss='categorical_crossentropy', optimizer='adam', metrics=['accuracy'])\n",
    "model.fit(X, y, epochs=500, batch_size=1, verbose=2)"
   ]
  },
  {
   "cell_type": "code",
   "execution_count": null,
   "metadata": {},
   "outputs": [],
   "source": []
  }
 ],
 "metadata": {
  "kernelspec": {
   "display_name": "base",
   "language": "python",
   "name": "python3"
  },
  "language_info": {
   "codemirror_mode": {
    "name": "ipython",
    "version": 3
   },
   "file_extension": ".py",
   "mimetype": "text/x-python",
   "name": "python",
   "nbconvert_exporter": "python",
   "pygments_lexer": "ipython3",
   "version": "3.6.5"
  }
 },
 "nbformat": 4,
 "nbformat_minor": 2
}
