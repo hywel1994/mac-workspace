{
 "cells": [
  {
   "cell_type": "code",
   "execution_count": 1,
   "metadata": {},
   "outputs": [
    {
     "name": "stderr",
     "output_type": "stream",
     "text": [
      "/home/hywel/anaconda3/lib/python3.6/site-packages/h5py/__init__.py:36: FutureWarning: Conversion of the second argument of issubdtype from `float` to `np.floating` is deprecated. In future, it will be treated as `np.float64 == np.dtype(float).type`.\n",
      "  from ._conv import register_converters as _register_converters\n",
      "Using TensorFlow backend.\n"
     ]
    }
   ],
   "source": [
    "import numpy as np\n",
    "from keras.models import Sequential\n",
    "from keras.layers import Dense, Dropout\n"
   ]
  },
  {
   "cell_type": "code",
   "execution_count": 2,
   "metadata": {},
   "outputs": [
    {
     "name": "stdout",
     "output_type": "stream",
     "text": [
      "Epoch 1/20\n",
      "1000/1000 [==============================] - 1s 628us/step - loss: 0.6996 - acc: 0.5210\n",
      "Epoch 2/20\n",
      "1000/1000 [==============================] - 0s 17us/step - loss: 0.7086 - acc: 0.4930\n",
      "Epoch 3/20\n",
      "1000/1000 [==============================] - 0s 16us/step - loss: 0.7027 - acc: 0.5050\n",
      "Epoch 4/20\n",
      "1000/1000 [==============================] - 0s 16us/step - loss: 0.7009 - acc: 0.4920\n",
      "Epoch 5/20\n",
      "1000/1000 [==============================] - 0s 16us/step - loss: 0.6980 - acc: 0.5090\n",
      "Epoch 6/20\n",
      "1000/1000 [==============================] - 0s 17us/step - loss: 0.6946 - acc: 0.5170\n",
      "Epoch 7/20\n",
      "1000/1000 [==============================] - 0s 16us/step - loss: 0.6955 - acc: 0.5100\n",
      "Epoch 8/20\n",
      "1000/1000 [==============================] - 0s 17us/step - loss: 0.6956 - acc: 0.5190\n",
      "Epoch 9/20\n",
      "1000/1000 [==============================] - 0s 17us/step - loss: 0.6926 - acc: 0.5050\n",
      "Epoch 10/20\n",
      "1000/1000 [==============================] - 0s 17us/step - loss: 0.6956 - acc: 0.5160\n",
      "Epoch 11/20\n",
      "1000/1000 [==============================] - 0s 17us/step - loss: 0.6939 - acc: 0.5370\n",
      "Epoch 12/20\n",
      "1000/1000 [==============================] - 0s 18us/step - loss: 0.6904 - acc: 0.5380\n",
      "Epoch 13/20\n",
      "1000/1000 [==============================] - 0s 17us/step - loss: 0.6977 - acc: 0.4870\n",
      "Epoch 14/20\n",
      "1000/1000 [==============================] - 0s 17us/step - loss: 0.6894 - acc: 0.5540\n",
      "Epoch 15/20\n",
      "1000/1000 [==============================] - 0s 17us/step - loss: 0.6914 - acc: 0.5250\n",
      "Epoch 16/20\n",
      "1000/1000 [==============================] - 0s 17us/step - loss: 0.6956 - acc: 0.5210\n",
      "Epoch 17/20\n",
      "1000/1000 [==============================] - 0s 17us/step - loss: 0.6944 - acc: 0.5130\n",
      "Epoch 18/20\n",
      "1000/1000 [==============================] - 0s 16us/step - loss: 0.6956 - acc: 0.5100\n",
      "Epoch 19/20\n",
      "1000/1000 [==============================] - 0s 17us/step - loss: 0.6928 - acc: 0.4970\n",
      "Epoch 20/20\n",
      "1000/1000 [==============================] - 0s 17us/step - loss: 0.6911 - acc: 0.5510\n",
      "100/100 [==============================] - 0s 353us/step\n"
     ]
    }
   ],
   "source": [
    "# Generate dummy data\n",
    "x_train = np.random.random((1000, 20))\n",
    "y_train = np.random.randint(2, size=(1000, 1))\n",
    "x_test = np.random.random((100, 20))\n",
    "y_test = np.random.randint(2, size=(100, 1))\n",
    "\n",
    "model = Sequential()\n",
    "model.add(Dense(64, input_dim=20, activation='relu'))\n",
    "model.add(Dropout(0.5))\n",
    "model.add(Dense(64, activation='relu'))\n",
    "model.add(Dropout(0.5))\n",
    "model.add(Dense(1, activation='sigmoid'))\n",
    "\n",
    "model.compile(loss='binary_crossentropy',\n",
    "              optimizer='rmsprop',\n",
    "              metrics=['accuracy'])\n",
    "model.fit(x_train, y_train,\n",
    "          epochs=20,\n",
    "          batch_size=128)\n",
    "score = model.evaluate(x_test, y_test, batch_size=32)"
   ]
  },
  {
   "cell_type": "code",
   "execution_count": null,
   "metadata": {},
   "outputs": [],
   "source": []
  }
 ],
 "metadata": {
  "kernelspec": {
   "display_name": "base",
   "language": "python",
   "name": "python3"
  },
  "language_info": {
   "codemirror_mode": {
    "name": "ipython",
    "version": 3
   },
   "file_extension": ".py",
   "mimetype": "text/x-python",
   "name": "python",
   "nbconvert_exporter": "python",
   "pygments_lexer": "ipython3",
   "version": "3.6.5"
  }
 },
 "nbformat": 4,
 "nbformat_minor": 2
}
